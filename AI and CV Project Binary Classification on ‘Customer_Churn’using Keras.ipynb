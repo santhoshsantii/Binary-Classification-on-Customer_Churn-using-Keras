{
  "nbformat": 4,
  "nbformat_minor": 0,
  "metadata": {
    "colab": {
      "name": "AI and CV Project - Binary Classification on ‘Customer_Churn’using Keras.ipynb",
      "provenance": [],
      "collapsed_sections": [
        "91oQJocRtf4t",
        "fvX6HMq7t-ME"
      ]
    },
    "kernelspec": {
      "name": "python3",
      "display_name": "Python 3"
    },
    "language_info": {
      "name": "python"
    }
  },
  "cells": [
    {
      "cell_type": "markdown",
      "metadata": {
        "id": "-USfIPv1tdO8"
      },
      "source": [
        "# **AI and CV Project - Binary Classification on ‘Customer_Churn’using Keras**"
      ]
    },
    {
      "cell_type": "code",
      "metadata": {
        "id": "Zf8Ef8jCv3cq"
      },
      "source": [
        "import pandas as pd\n",
        "import matplotlib.pyplot as plt"
      ],
      "execution_count": 217,
      "outputs": []
    },
    {
      "cell_type": "code",
      "metadata": {
        "id": "NYzYptGFLYJm"
      },
      "source": [
        "customer = pd.read_csv(\"customer_churn.csv\")"
      ],
      "execution_count": 218,
      "outputs": []
    },
    {
      "cell_type": "code",
      "metadata": {
        "id": "5GgnUnxX9Cfv"
      },
      "source": [
        "customer.SeniorCitizen.replace([0, 1], [\"No\", \"Yes\"], inplace= True) \n",
        "customer.TotalCharges.replace([\" \"], [\"0\"], inplace= True) \n",
        "customer.TotalCharges = customer.TotalCharges.astype(float) \n",
        "customer.drop(\"customerID\", axis= 1, inplace= True) \n",
        "customer.Churn.replace([\"Yes\", \"No\"], [1, 0], inplace= True)"
      ],
      "execution_count": 220,
      "outputs": []
    },
    {
      "cell_type": "markdown",
      "metadata": {
        "id": "91oQJocRtf4t"
      },
      "source": [
        "# **A) Data Manipulation:**"
      ]
    },
    {
      "cell_type": "markdown",
      "metadata": {
        "id": "gyIjqpbXtlH3"
      },
      "source": [
        "**a.** Find the total number of male customers\n"
      ]
    },
    {
      "cell_type": "code",
      "metadata": {
        "colab": {
          "base_uri": "https://localhost:8080/"
        },
        "id": "UkZgiYpft51F",
        "outputId": "b300bb46-d24c-4584-c5ec-c9e26eff404e"
      },
      "source": [
        "sum(customer['gender']==\"Male\")"
      ],
      "execution_count": 111,
      "outputs": [
        {
          "output_type": "execute_result",
          "data": {
            "text/plain": [
              "3555"
            ]
          },
          "metadata": {},
          "execution_count": 111
        }
      ]
    },
    {
      "cell_type": "markdown",
      "metadata": {
        "id": "RLxm9ZUMttvX"
      },
      "source": [
        "**b.** Find the total number of customers whose Internet Service is ‘DSL’\n"
      ]
    },
    {
      "cell_type": "code",
      "metadata": {
        "colab": {
          "base_uri": "https://localhost:8080/"
        },
        "id": "NpbSIoj-t6ao",
        "outputId": "9eb983eb-65dd-4853-aadc-0aa59b161854"
      },
      "source": [
        "sum(customer[\"InternetService\"] == \"DSL\")\n"
      ],
      "execution_count": 112,
      "outputs": [
        {
          "output_type": "execute_result",
          "data": {
            "text/plain": [
              "2421"
            ]
          },
          "metadata": {},
          "execution_count": 112
        }
      ]
    },
    {
      "cell_type": "markdown",
      "metadata": {
        "id": "B81ES6AqtvLJ"
      },
      "source": [
        "**c.** Extract all the Female senior citizens whose Payment Method is Mailed check & store the result in ‘new_customer’\n"
      ]
    },
    {
      "cell_type": "code",
      "metadata": {
        "id": "QhWOT8A2t7E6"
      },
      "source": [
        "new_customer = customer[(customer[\"SeniorCitizen\"] == 1) & (customer[\"gender\"] == \"Female\") & (customer[\"PaymentMethod\"] == \"Mailed check\")]"
      ],
      "execution_count": 113,
      "outputs": []
    },
    {
      "cell_type": "markdown",
      "metadata": {
        "id": "5_iiroCrtyK8"
      },
      "source": [
        "**d.** Extract all those customers whose tenure is less than 10 months or their Total charges is less than 500$ & store the result in ‘new_customer’"
      ]
    },
    {
      "cell_type": "code",
      "metadata": {
        "id": "AAqCYnmxt7o2"
      },
      "source": [
        "new_customer1 = customer[(customer['tenure'] < 10) | (customer['TotalCharges'] < 500)] "
      ],
      "execution_count": 119,
      "outputs": []
    },
    {
      "cell_type": "code",
      "metadata": {
        "colab": {
          "base_uri": "https://localhost:8080/",
          "height": 601
        },
        "id": "mrh6xZhc9ysq",
        "outputId": "3d7e2556-009d-4fb4-dda9-cb08e377685d"
      },
      "source": [
        "new_customer1"
      ],
      "execution_count": 120,
      "outputs": [
        {
          "output_type": "execute_result",
          "data": {
            "text/html": [
              "<div>\n",
              "<style scoped>\n",
              "    .dataframe tbody tr th:only-of-type {\n",
              "        vertical-align: middle;\n",
              "    }\n",
              "\n",
              "    .dataframe tbody tr th {\n",
              "        vertical-align: top;\n",
              "    }\n",
              "\n",
              "    .dataframe thead th {\n",
              "        text-align: right;\n",
              "    }\n",
              "</style>\n",
              "<table border=\"1\" class=\"dataframe\">\n",
              "  <thead>\n",
              "    <tr style=\"text-align: right;\">\n",
              "      <th></th>\n",
              "      <th>gender</th>\n",
              "      <th>SeniorCitizen</th>\n",
              "      <th>Partner</th>\n",
              "      <th>Dependents</th>\n",
              "      <th>tenure</th>\n",
              "      <th>PhoneService</th>\n",
              "      <th>MultipleLines</th>\n",
              "      <th>InternetService</th>\n",
              "      <th>OnlineSecurity</th>\n",
              "      <th>OnlineBackup</th>\n",
              "      <th>DeviceProtection</th>\n",
              "      <th>TechSupport</th>\n",
              "      <th>StreamingTV</th>\n",
              "      <th>StreamingMovies</th>\n",
              "      <th>Contract</th>\n",
              "      <th>PaperlessBilling</th>\n",
              "      <th>PaymentMethod</th>\n",
              "      <th>MonthlyCharges</th>\n",
              "      <th>TotalCharges</th>\n",
              "      <th>Churn</th>\n",
              "    </tr>\n",
              "  </thead>\n",
              "  <tbody>\n",
              "    <tr>\n",
              "      <th>0</th>\n",
              "      <td>Female</td>\n",
              "      <td>No</td>\n",
              "      <td>Yes</td>\n",
              "      <td>No</td>\n",
              "      <td>1</td>\n",
              "      <td>No</td>\n",
              "      <td>No phone service</td>\n",
              "      <td>DSL</td>\n",
              "      <td>No</td>\n",
              "      <td>Yes</td>\n",
              "      <td>No</td>\n",
              "      <td>No</td>\n",
              "      <td>No</td>\n",
              "      <td>No</td>\n",
              "      <td>Month-to-month</td>\n",
              "      <td>Yes</td>\n",
              "      <td>Electronic check</td>\n",
              "      <td>29.85</td>\n",
              "      <td>29.85</td>\n",
              "      <td>0</td>\n",
              "    </tr>\n",
              "    <tr>\n",
              "      <th>2</th>\n",
              "      <td>Male</td>\n",
              "      <td>No</td>\n",
              "      <td>No</td>\n",
              "      <td>No</td>\n",
              "      <td>2</td>\n",
              "      <td>Yes</td>\n",
              "      <td>No</td>\n",
              "      <td>DSL</td>\n",
              "      <td>Yes</td>\n",
              "      <td>Yes</td>\n",
              "      <td>No</td>\n",
              "      <td>No</td>\n",
              "      <td>No</td>\n",
              "      <td>No</td>\n",
              "      <td>Month-to-month</td>\n",
              "      <td>Yes</td>\n",
              "      <td>Mailed check</td>\n",
              "      <td>53.85</td>\n",
              "      <td>108.15</td>\n",
              "      <td>1</td>\n",
              "    </tr>\n",
              "    <tr>\n",
              "      <th>4</th>\n",
              "      <td>Female</td>\n",
              "      <td>No</td>\n",
              "      <td>No</td>\n",
              "      <td>No</td>\n",
              "      <td>2</td>\n",
              "      <td>Yes</td>\n",
              "      <td>No</td>\n",
              "      <td>Fiber optic</td>\n",
              "      <td>No</td>\n",
              "      <td>No</td>\n",
              "      <td>No</td>\n",
              "      <td>No</td>\n",
              "      <td>No</td>\n",
              "      <td>No</td>\n",
              "      <td>Month-to-month</td>\n",
              "      <td>Yes</td>\n",
              "      <td>Electronic check</td>\n",
              "      <td>70.70</td>\n",
              "      <td>151.65</td>\n",
              "      <td>1</td>\n",
              "    </tr>\n",
              "    <tr>\n",
              "      <th>5</th>\n",
              "      <td>Female</td>\n",
              "      <td>No</td>\n",
              "      <td>No</td>\n",
              "      <td>No</td>\n",
              "      <td>8</td>\n",
              "      <td>Yes</td>\n",
              "      <td>Yes</td>\n",
              "      <td>Fiber optic</td>\n",
              "      <td>No</td>\n",
              "      <td>No</td>\n",
              "      <td>Yes</td>\n",
              "      <td>No</td>\n",
              "      <td>Yes</td>\n",
              "      <td>Yes</td>\n",
              "      <td>Month-to-month</td>\n",
              "      <td>Yes</td>\n",
              "      <td>Electronic check</td>\n",
              "      <td>99.65</td>\n",
              "      <td>820.50</td>\n",
              "      <td>1</td>\n",
              "    </tr>\n",
              "    <tr>\n",
              "      <th>7</th>\n",
              "      <td>Female</td>\n",
              "      <td>No</td>\n",
              "      <td>No</td>\n",
              "      <td>No</td>\n",
              "      <td>10</td>\n",
              "      <td>No</td>\n",
              "      <td>No phone service</td>\n",
              "      <td>DSL</td>\n",
              "      <td>Yes</td>\n",
              "      <td>No</td>\n",
              "      <td>No</td>\n",
              "      <td>No</td>\n",
              "      <td>No</td>\n",
              "      <td>No</td>\n",
              "      <td>Month-to-month</td>\n",
              "      <td>No</td>\n",
              "      <td>Mailed check</td>\n",
              "      <td>29.75</td>\n",
              "      <td>301.90</td>\n",
              "      <td>0</td>\n",
              "    </tr>\n",
              "    <tr>\n",
              "      <th>...</th>\n",
              "      <td>...</td>\n",
              "      <td>...</td>\n",
              "      <td>...</td>\n",
              "      <td>...</td>\n",
              "      <td>...</td>\n",
              "      <td>...</td>\n",
              "      <td>...</td>\n",
              "      <td>...</td>\n",
              "      <td>...</td>\n",
              "      <td>...</td>\n",
              "      <td>...</td>\n",
              "      <td>...</td>\n",
              "      <td>...</td>\n",
              "      <td>...</td>\n",
              "      <td>...</td>\n",
              "      <td>...</td>\n",
              "      <td>...</td>\n",
              "      <td>...</td>\n",
              "      <td>...</td>\n",
              "      <td>...</td>\n",
              "    </tr>\n",
              "    <tr>\n",
              "      <th>7029</th>\n",
              "      <td>Female</td>\n",
              "      <td>Yes</td>\n",
              "      <td>No</td>\n",
              "      <td>No</td>\n",
              "      <td>6</td>\n",
              "      <td>No</td>\n",
              "      <td>No phone service</td>\n",
              "      <td>DSL</td>\n",
              "      <td>No</td>\n",
              "      <td>No</td>\n",
              "      <td>No</td>\n",
              "      <td>No</td>\n",
              "      <td>Yes</td>\n",
              "      <td>Yes</td>\n",
              "      <td>Month-to-month</td>\n",
              "      <td>Yes</td>\n",
              "      <td>Electronic check</td>\n",
              "      <td>44.40</td>\n",
              "      <td>263.05</td>\n",
              "      <td>0</td>\n",
              "    </tr>\n",
              "    <tr>\n",
              "      <th>7030</th>\n",
              "      <td>Female</td>\n",
              "      <td>No</td>\n",
              "      <td>No</td>\n",
              "      <td>No</td>\n",
              "      <td>2</td>\n",
              "      <td>Yes</td>\n",
              "      <td>No</td>\n",
              "      <td>No</td>\n",
              "      <td>No internet service</td>\n",
              "      <td>No internet service</td>\n",
              "      <td>No internet service</td>\n",
              "      <td>No internet service</td>\n",
              "      <td>No internet service</td>\n",
              "      <td>No internet service</td>\n",
              "      <td>Month-to-month</td>\n",
              "      <td>Yes</td>\n",
              "      <td>Mailed check</td>\n",
              "      <td>20.05</td>\n",
              "      <td>39.25</td>\n",
              "      <td>0</td>\n",
              "    </tr>\n",
              "    <tr>\n",
              "      <th>7032</th>\n",
              "      <td>Male</td>\n",
              "      <td>Yes</td>\n",
              "      <td>No</td>\n",
              "      <td>No</td>\n",
              "      <td>1</td>\n",
              "      <td>Yes</td>\n",
              "      <td>Yes</td>\n",
              "      <td>Fiber optic</td>\n",
              "      <td>No</td>\n",
              "      <td>No</td>\n",
              "      <td>No</td>\n",
              "      <td>No</td>\n",
              "      <td>No</td>\n",
              "      <td>No</td>\n",
              "      <td>Month-to-month</td>\n",
              "      <td>Yes</td>\n",
              "      <td>Electronic check</td>\n",
              "      <td>75.75</td>\n",
              "      <td>75.75</td>\n",
              "      <td>1</td>\n",
              "    </tr>\n",
              "    <tr>\n",
              "      <th>7040</th>\n",
              "      <td>Female</td>\n",
              "      <td>No</td>\n",
              "      <td>Yes</td>\n",
              "      <td>Yes</td>\n",
              "      <td>11</td>\n",
              "      <td>No</td>\n",
              "      <td>No phone service</td>\n",
              "      <td>DSL</td>\n",
              "      <td>Yes</td>\n",
              "      <td>No</td>\n",
              "      <td>No</td>\n",
              "      <td>No</td>\n",
              "      <td>No</td>\n",
              "      <td>No</td>\n",
              "      <td>Month-to-month</td>\n",
              "      <td>Yes</td>\n",
              "      <td>Electronic check</td>\n",
              "      <td>29.60</td>\n",
              "      <td>346.45</td>\n",
              "      <td>0</td>\n",
              "    </tr>\n",
              "    <tr>\n",
              "      <th>7041</th>\n",
              "      <td>Male</td>\n",
              "      <td>Yes</td>\n",
              "      <td>Yes</td>\n",
              "      <td>No</td>\n",
              "      <td>4</td>\n",
              "      <td>Yes</td>\n",
              "      <td>Yes</td>\n",
              "      <td>Fiber optic</td>\n",
              "      <td>No</td>\n",
              "      <td>No</td>\n",
              "      <td>No</td>\n",
              "      <td>No</td>\n",
              "      <td>No</td>\n",
              "      <td>No</td>\n",
              "      <td>Month-to-month</td>\n",
              "      <td>Yes</td>\n",
              "      <td>Mailed check</td>\n",
              "      <td>74.40</td>\n",
              "      <td>306.60</td>\n",
              "      <td>1</td>\n",
              "    </tr>\n",
              "  </tbody>\n",
              "</table>\n",
              "<p>2233 rows × 20 columns</p>\n",
              "</div>"
            ],
            "text/plain": [
              "      gender SeniorCitizen Partner  ... MonthlyCharges  TotalCharges Churn\n",
              "0     Female            No     Yes  ...          29.85         29.85     0\n",
              "2       Male            No      No  ...          53.85        108.15     1\n",
              "4     Female            No      No  ...          70.70        151.65     1\n",
              "5     Female            No      No  ...          99.65        820.50     1\n",
              "7     Female            No      No  ...          29.75        301.90     0\n",
              "...      ...           ...     ...  ...            ...           ...   ...\n",
              "7029  Female           Yes      No  ...          44.40        263.05     0\n",
              "7030  Female            No      No  ...          20.05         39.25     0\n",
              "7032    Male           Yes      No  ...          75.75         75.75     1\n",
              "7040  Female            No     Yes  ...          29.60        346.45     0\n",
              "7041    Male           Yes     Yes  ...          74.40        306.60     1\n",
              "\n",
              "[2233 rows x 20 columns]"
            ]
          },
          "metadata": {},
          "execution_count": 120
        }
      ]
    },
    {
      "cell_type": "markdown",
      "metadata": {
        "id": "fvX6HMq7t-ME"
      },
      "source": [
        "# **B) Data Visualization:**\n",
        "\n"
      ]
    },
    {
      "cell_type": "markdown",
      "metadata": {
        "id": "0NnibVG8uC63"
      },
      "source": [
        "**a.** Build a pie-chart to show the distribution of customers would be churning out"
      ]
    },
    {
      "cell_type": "code",
      "metadata": {
        "colab": {
          "base_uri": "https://localhost:8080/",
          "height": 247
        },
        "id": "ypxfPaPUuJhp",
        "outputId": "4c1fb8d1-34f1-49c2-f6f1-e87cc255e568"
      },
      "source": [
        "names = customer[\"Churn\"].value_counts().keys().tolist()\n",
        "sizes= customer[\"Churn\"].value_counts().tolist() \n",
        "plt.pie(sizes,labels=names,autopct=\"%0.1f%%\")\n",
        "plt.show() "
      ],
      "execution_count": 121,
      "outputs": [
        {
          "output_type": "display_data",
          "data": {
            "image/png": "[encoded data removed]",
            "text/plain": [
              "<Figure size 432x288 with 1 Axes>"
            ]
          },
          "metadata": {}
        }
      ]
    },
    {
      "cell_type": "markdown",
      "metadata": {
        "id": "dBULwWWBuJyN"
      },
      "source": [
        "**b.** Build a bar-plot to show the distribution of ‘Internet Service’"
      ]
    },
    {
      "cell_type": "code",
      "metadata": {
        "colab": {
          "base_uri": "https://localhost:8080/",
          "height": 294
        },
        "id": "nZA2r6uRuLrP",
        "outputId": "c4fcae92-afd1-4f63-fb95-67c2e51c018d"
      },
      "source": [
        "plt.bar(customer['InternetService'].value_counts().keys().tolist(),customer['InternetService'].value_counts().tolist(),color='orange')\n",
        "plt.xlabel('Categories of Internet Service')\n",
        "plt.ylabel('Count of categories')\n",
        "plt.title('Distribution of Internet Service')\n",
        "plt.show() "
      ],
      "execution_count": 122,
      "outputs": [
        {
          "output_type": "display_data",
          "data": {
            "image/png": "[encoded data removed]",
            "text/plain": [
              "<Figure size 432x288 with 1 Axes>"
            ]
          },
          "metadata": {
            "needs_background": "light"
          }
        }
      ]
    },
    {
      "cell_type": "markdown",
      "metadata": {
        "id": "K98kVuU6uMQD"
      },
      "source": [
        "# **C) Model Building:**"
      ]
    },
    {
      "cell_type": "markdown",
      "metadata": {
        "id": "XQcyXN-CuSRF"
      },
      "source": [
        "**a. Build a sequential model using Keras, to find out if the customerwouldchurn or not, using ‘tenure’ as the feature and ‘Churn’ as the dependent/target column:**"
      ]
    },
    {
      "cell_type": "code",
      "metadata": {
        "id": "QP6XBGuJ1ugc"
      },
      "source": [
        "from keras.models import Sequential\n",
        "from keras.layers import Dense, Dropout\n",
        "from sklearn.metrics import confusion_matrix\n",
        "from sklearn.model_selection import train_test_split "
      ],
      "execution_count": 221,
      "outputs": []
    },
    {
      "cell_type": "code",
      "metadata": {
        "id": "aCNshP1s1e8J"
      },
      "source": [
        "x = customer[['tenure']]\n",
        "y = customer[['Churn']] \n",
        "x_train,x_test,y_train,y_test = train_test_split(x,y,test_size=0.30,random_state=42)"
      ],
      "execution_count": 222,
      "outputs": []
    },
    {
      "cell_type": "markdown",
      "metadata": {
        "id": "dZ_N1NS4uX38"
      },
      "source": [
        "**i.** The visible/input layer should have 12 nodes with ‘Relu’ as activation function."
      ]
    },
    {
      "cell_type": "code",
      "metadata": {
        "id": "o2SbS2rYukbz"
      },
      "source": [
        "model = Sequential()\n",
        "model.add(Dense(12, input_dim=1, activation='relu'))"
      ],
      "execution_count": 223,
      "outputs": []
    },
    {
      "cell_type": "markdown",
      "metadata": {
        "id": "ouAn4y9Kuk2q"
      },
      "source": [
        "**ii.** This model would have 1 hidden layer with 8 nodes and ‘Relu’ as activation function"
      ]
    },
    {
      "cell_type": "code",
      "metadata": {
        "id": "J4l7DC-UuoAo"
      },
      "source": [
        "model.add(Dense(8, activation='relu'))"
      ],
      "execution_count": 224,
      "outputs": []
    },
    {
      "cell_type": "code",
      "metadata": {
        "id": "8HdGdgjr19j3"
      },
      "source": [
        "model.add(Dense(1, activation='sigmoid')) "
      ],
      "execution_count": 225,
      "outputs": []
    },
    {
      "cell_type": "markdown",
      "metadata": {
        "id": "173NyRWbuoQi"
      },
      "source": [
        "**iii.** Use ‘Adam’ as the optimization algorithm"
      ]
    },
    {
      "cell_type": "code",
      "metadata": {
        "id": "Veo4_WdXurFq"
      },
      "source": [
        "model.compile(loss='binary_crossentropy', optimizer='adam', metrics=['accuracy'])"
      ],
      "execution_count": 226,
      "outputs": []
    },
    {
      "cell_type": "markdown",
      "metadata": {
        "id": "2cyKtLe6urjU"
      },
      "source": [
        "**iv.** Fit the model on the train set, with number of epochs to be 150"
      ]
    },
    {
      "cell_type": "code",
      "metadata": {
        "colab": {
          "base_uri": "https://localhost:8080/"
        },
        "id": "Ng7bRAIWuuRk",
        "outputId": "bb6ef4aa-88f3-44ea-f7bb-3f6c7b07c965"
      },
      "source": [
        "model_history = model.fit(x_train, y_train, epochs=150,validation_data=(x_test,y_test))"
      ],
      "execution_count": 227,
      "outputs": [
        {
          "output_type": "stream",
          "name": "stdout",
          "text": [
            "Epoch 1/150\n",
            "155/155 [==============================] - 1s 2ms/step - loss: 0.9929 - accuracy: 0.7422 - val_loss: 0.5108 - val_accuracy: 0.7511\n",
            "Epoch 2/150\n",
            "155/155 [==============================] - 0s 2ms/step - loss: 0.5139 - accuracy: 0.7554 - val_loss: 0.5101 - val_accuracy: 0.7549\n",
            "Epoch 3/150\n",
            "155/155 [==============================] - 0s 2ms/step - loss: 0.5139 - accuracy: 0.7527 - val_loss: 0.5108 - val_accuracy: 0.7549\n",
            "Epoch 4/150\n",
            "155/155 [==============================] - 0s 2ms/step - loss: 0.5130 - accuracy: 0.7542 - val_loss: 0.5144 - val_accuracy: 0.7539\n",
            "Epoch 5/150\n",
            "155/155 [==============================] - 0s 2ms/step - loss: 0.5149 - accuracy: 0.7515 - val_loss: 0.5111 - val_accuracy: 0.7553\n",
            "Epoch 6/150\n",
            "155/155 [==============================] - 0s 2ms/step - loss: 0.5130 - accuracy: 0.7465 - val_loss: 0.5114 - val_accuracy: 0.7283\n",
            "Epoch 7/150\n",
            "155/155 [==============================] - 0s 2ms/step - loss: 0.5147 - accuracy: 0.7373 - val_loss: 0.5101 - val_accuracy: 0.7283\n",
            "Epoch 8/150\n",
            "155/155 [==============================] - 0s 2ms/step - loss: 0.5159 - accuracy: 0.7373 - val_loss: 0.5103 - val_accuracy: 0.7283\n",
            "Epoch 9/150\n",
            "155/155 [==============================] - 0s 1ms/step - loss: 0.5145 - accuracy: 0.7373 - val_loss: 0.5205 - val_accuracy: 0.7283\n",
            "Epoch 10/150\n",
            "155/155 [==============================] - 0s 2ms/step - loss: 0.5138 - accuracy: 0.7381 - val_loss: 0.5132 - val_accuracy: 0.7283\n",
            "Epoch 11/150\n",
            "155/155 [==============================] - 0s 1ms/step - loss: 0.5145 - accuracy: 0.7373 - val_loss: 0.5093 - val_accuracy: 0.7283\n",
            "Epoch 12/150\n",
            "155/155 [==============================] - 0s 2ms/step - loss: 0.5127 - accuracy: 0.7408 - val_loss: 0.5100 - val_accuracy: 0.7283\n",
            "Epoch 13/150\n",
            "155/155 [==============================] - 0s 2ms/step - loss: 0.5119 - accuracy: 0.7513 - val_loss: 0.5152 - val_accuracy: 0.7553\n",
            "Epoch 14/150\n",
            "155/155 [==============================] - 0s 1ms/step - loss: 0.5135 - accuracy: 0.7550 - val_loss: 0.5087 - val_accuracy: 0.7553\n",
            "Epoch 15/150\n",
            "155/155 [==============================] - 0s 2ms/step - loss: 0.5114 - accuracy: 0.7556 - val_loss: 0.5090 - val_accuracy: 0.7553\n",
            "Epoch 16/150\n",
            "155/155 [==============================] - 0s 2ms/step - loss: 0.5132 - accuracy: 0.7556 - val_loss: 0.5086 - val_accuracy: 0.7553\n",
            "Epoch 17/150\n",
            "155/155 [==============================] - 0s 2ms/step - loss: 0.5108 - accuracy: 0.7556 - val_loss: 0.5099 - val_accuracy: 0.7553\n",
            "Epoch 18/150\n",
            "155/155 [==============================] - 0s 2ms/step - loss: 0.5111 - accuracy: 0.7556 - val_loss: 0.5101 - val_accuracy: 0.7553\n",
            "Epoch 19/150\n",
            "155/155 [==============================] - 0s 1ms/step - loss: 0.5103 - accuracy: 0.7554 - val_loss: 0.5096 - val_accuracy: 0.7563\n",
            "Epoch 20/150\n",
            "155/155 [==============================] - 0s 2ms/step - loss: 0.5112 - accuracy: 0.7544 - val_loss: 0.5093 - val_accuracy: 0.7563\n",
            "Epoch 21/150\n",
            "155/155 [==============================] - 0s 1ms/step - loss: 0.5144 - accuracy: 0.7550 - val_loss: 0.5084 - val_accuracy: 0.7563\n",
            "Epoch 22/150\n",
            "155/155 [==============================] - 0s 2ms/step - loss: 0.5098 - accuracy: 0.7568 - val_loss: 0.5087 - val_accuracy: 0.7563\n",
            "Epoch 23/150\n",
            "155/155 [==============================] - 0s 2ms/step - loss: 0.5100 - accuracy: 0.7568 - val_loss: 0.5137 - val_accuracy: 0.7563\n",
            "Epoch 24/150\n",
            "155/155 [==============================] - 0s 2ms/step - loss: 0.5122 - accuracy: 0.7562 - val_loss: 0.5081 - val_accuracy: 0.7563\n",
            "Epoch 25/150\n",
            "155/155 [==============================] - 0s 2ms/step - loss: 0.5085 - accuracy: 0.7568 - val_loss: 0.5078 - val_accuracy: 0.7563\n",
            "Epoch 26/150\n",
            "155/155 [==============================] - 0s 2ms/step - loss: 0.5095 - accuracy: 0.7568 - val_loss: 0.5227 - val_accuracy: 0.7563\n",
            "Epoch 27/150\n",
            "155/155 [==============================] - 0s 1ms/step - loss: 0.5113 - accuracy: 0.7564 - val_loss: 0.5077 - val_accuracy: 0.7563\n",
            "Epoch 28/150\n",
            "155/155 [==============================] - 0s 2ms/step - loss: 0.5105 - accuracy: 0.7568 - val_loss: 0.5087 - val_accuracy: 0.7563\n",
            "Epoch 29/150\n",
            "155/155 [==============================] - 0s 2ms/step - loss: 0.5097 - accuracy: 0.7568 - val_loss: 0.5186 - val_accuracy: 0.7563\n",
            "Epoch 30/150\n",
            "155/155 [==============================] - 0s 2ms/step - loss: 0.5105 - accuracy: 0.7568 - val_loss: 0.5094 - val_accuracy: 0.7563\n",
            "Epoch 31/150\n",
            "155/155 [==============================] - 0s 2ms/step - loss: 0.5107 - accuracy: 0.7568 - val_loss: 0.5125 - val_accuracy: 0.7563\n",
            "Epoch 32/150\n",
            "155/155 [==============================] - 0s 2ms/step - loss: 0.5108 - accuracy: 0.7568 - val_loss: 0.5078 - val_accuracy: 0.7563\n",
            "Epoch 33/150\n",
            "155/155 [==============================] - 0s 2ms/step - loss: 0.5088 - accuracy: 0.7568 - val_loss: 0.5080 - val_accuracy: 0.7563\n",
            "Epoch 34/150\n",
            "155/155 [==============================] - 0s 2ms/step - loss: 0.5110 - accuracy: 0.7568 - val_loss: 0.5084 - val_accuracy: 0.7563\n",
            "Epoch 35/150\n",
            "155/155 [==============================] - 0s 2ms/step - loss: 0.5090 - accuracy: 0.7566 - val_loss: 0.5112 - val_accuracy: 0.7563\n",
            "Epoch 36/150\n",
            "155/155 [==============================] - 0s 2ms/step - loss: 0.5113 - accuracy: 0.7568 - val_loss: 0.5100 - val_accuracy: 0.7563\n",
            "Epoch 37/150\n",
            "155/155 [==============================] - 0s 2ms/step - loss: 0.5093 - accuracy: 0.7560 - val_loss: 0.5074 - val_accuracy: 0.7563\n",
            "Epoch 38/150\n",
            "155/155 [==============================] - 0s 2ms/step - loss: 0.5093 - accuracy: 0.7568 - val_loss: 0.5210 - val_accuracy: 0.7525\n",
            "Epoch 39/150\n",
            "155/155 [==============================] - 0s 2ms/step - loss: 0.5091 - accuracy: 0.7554 - val_loss: 0.5075 - val_accuracy: 0.7563\n",
            "Epoch 40/150\n",
            "155/155 [==============================] - 0s 2ms/step - loss: 0.5089 - accuracy: 0.7564 - val_loss: 0.5082 - val_accuracy: 0.7563\n",
            "Epoch 41/150\n",
            "155/155 [==============================] - 0s 2ms/step - loss: 0.5090 - accuracy: 0.7546 - val_loss: 0.5085 - val_accuracy: 0.7563\n",
            "Epoch 42/150\n",
            "155/155 [==============================] - 0s 1ms/step - loss: 0.5103 - accuracy: 0.7562 - val_loss: 0.5078 - val_accuracy: 0.7563\n",
            "Epoch 43/150\n",
            "155/155 [==============================] - 0s 1ms/step - loss: 0.5096 - accuracy: 0.7544 - val_loss: 0.5073 - val_accuracy: 0.7563\n",
            "Epoch 44/150\n",
            "155/155 [==============================] - 0s 2ms/step - loss: 0.5102 - accuracy: 0.7544 - val_loss: 0.5102 - val_accuracy: 0.7563\n",
            "Epoch 45/150\n",
            "155/155 [==============================] - 0s 2ms/step - loss: 0.5095 - accuracy: 0.7576 - val_loss: 0.5091 - val_accuracy: 0.7563\n",
            "Epoch 46/150\n",
            "155/155 [==============================] - 0s 2ms/step - loss: 0.5102 - accuracy: 0.7548 - val_loss: 0.5080 - val_accuracy: 0.7525\n",
            "Epoch 47/150\n",
            "155/155 [==============================] - 0s 1ms/step - loss: 0.5106 - accuracy: 0.7566 - val_loss: 0.5119 - val_accuracy: 0.7563\n",
            "Epoch 48/150\n",
            "155/155 [==============================] - 0s 2ms/step - loss: 0.5115 - accuracy: 0.7566 - val_loss: 0.5079 - val_accuracy: 0.7525\n",
            "Epoch 49/150\n",
            "155/155 [==============================] - 0s 2ms/step - loss: 0.5094 - accuracy: 0.7566 - val_loss: 0.5086 - val_accuracy: 0.7563\n",
            "Epoch 50/150\n",
            "155/155 [==============================] - 0s 2ms/step - loss: 0.5091 - accuracy: 0.7540 - val_loss: 0.5150 - val_accuracy: 0.7563\n",
            "Epoch 51/150\n",
            "155/155 [==============================] - 0s 2ms/step - loss: 0.5109 - accuracy: 0.7570 - val_loss: 0.5072 - val_accuracy: 0.7525\n",
            "Epoch 52/150\n",
            "155/155 [==============================] - 0s 2ms/step - loss: 0.5095 - accuracy: 0.7550 - val_loss: 0.5075 - val_accuracy: 0.7525\n",
            "Epoch 53/150\n",
            "155/155 [==============================] - 0s 2ms/step - loss: 0.5088 - accuracy: 0.7548 - val_loss: 0.5089 - val_accuracy: 0.7525\n",
            "Epoch 54/150\n",
            "155/155 [==============================] - 0s 2ms/step - loss: 0.5092 - accuracy: 0.7560 - val_loss: 0.5087 - val_accuracy: 0.7525\n",
            "Epoch 55/150\n",
            "155/155 [==============================] - 0s 1ms/step - loss: 0.5120 - accuracy: 0.7572 - val_loss: 0.5076 - val_accuracy: 0.7525\n",
            "Epoch 56/150\n",
            "155/155 [==============================] - 0s 2ms/step - loss: 0.5095 - accuracy: 0.7558 - val_loss: 0.5075 - val_accuracy: 0.7525\n",
            "Epoch 57/150\n",
            "155/155 [==============================] - 0s 2ms/step - loss: 0.5093 - accuracy: 0.7548 - val_loss: 0.5107 - val_accuracy: 0.7525\n",
            "Epoch 58/150\n",
            "155/155 [==============================] - 0s 2ms/step - loss: 0.5101 - accuracy: 0.7560 - val_loss: 0.5072 - val_accuracy: 0.7525\n",
            "Epoch 59/150\n",
            "155/155 [==============================] - 0s 2ms/step - loss: 0.5085 - accuracy: 0.7560 - val_loss: 0.5090 - val_accuracy: 0.7525\n",
            "Epoch 60/150\n",
            "155/155 [==============================] - 0s 1ms/step - loss: 0.5090 - accuracy: 0.7560 - val_loss: 0.5094 - val_accuracy: 0.7525\n",
            "Epoch 61/150\n",
            "155/155 [==============================] - 0s 2ms/step - loss: 0.5084 - accuracy: 0.7560 - val_loss: 0.5166 - val_accuracy: 0.7525\n",
            "Epoch 62/150\n",
            "155/155 [==============================] - 0s 2ms/step - loss: 0.5104 - accuracy: 0.7566 - val_loss: 0.5120 - val_accuracy: 0.7525\n",
            "Epoch 63/150\n",
            "155/155 [==============================] - 0s 2ms/step - loss: 0.5079 - accuracy: 0.7562 - val_loss: 0.5072 - val_accuracy: 0.7525\n",
            "Epoch 64/150\n",
            "155/155 [==============================] - 0s 2ms/step - loss: 0.5088 - accuracy: 0.7558 - val_loss: 0.5080 - val_accuracy: 0.7525\n",
            "Epoch 65/150\n",
            "155/155 [==============================] - 0s 2ms/step - loss: 0.5091 - accuracy: 0.7550 - val_loss: 0.5075 - val_accuracy: 0.7525\n",
            "Epoch 66/150\n",
            "155/155 [==============================] - 0s 2ms/step - loss: 0.5084 - accuracy: 0.7568 - val_loss: 0.5092 - val_accuracy: 0.7525\n",
            "Epoch 67/150\n",
            "155/155 [==============================] - 0s 2ms/step - loss: 0.5115 - accuracy: 0.7570 - val_loss: 0.5076 - val_accuracy: 0.7525\n",
            "Epoch 68/150\n",
            "155/155 [==============================] - 0s 2ms/step - loss: 0.5079 - accuracy: 0.7560 - val_loss: 0.5077 - val_accuracy: 0.7525\n",
            "Epoch 69/150\n",
            "155/155 [==============================] - 0s 2ms/step - loss: 0.5101 - accuracy: 0.7546 - val_loss: 0.5091 - val_accuracy: 0.7525\n",
            "Epoch 70/150\n",
            "155/155 [==============================] - 0s 2ms/step - loss: 0.5090 - accuracy: 0.7566 - val_loss: 0.5073 - val_accuracy: 0.7525\n",
            "Epoch 71/150\n",
            "155/155 [==============================] - 0s 2ms/step - loss: 0.5081 - accuracy: 0.7560 - val_loss: 0.5085 - val_accuracy: 0.7525\n",
            "Epoch 72/150\n",
            "155/155 [==============================] - 0s 2ms/step - loss: 0.5084 - accuracy: 0.7560 - val_loss: 0.5111 - val_accuracy: 0.7525\n",
            "Epoch 73/150\n",
            "155/155 [==============================] - 0s 2ms/step - loss: 0.5090 - accuracy: 0.7560 - val_loss: 0.5134 - val_accuracy: 0.7525\n",
            "Epoch 74/150\n",
            "155/155 [==============================] - 0s 2ms/step - loss: 0.5088 - accuracy: 0.7560 - val_loss: 0.5084 - val_accuracy: 0.7525\n",
            "Epoch 75/150\n",
            "155/155 [==============================] - 0s 2ms/step - loss: 0.5092 - accuracy: 0.7560 - val_loss: 0.5106 - val_accuracy: 0.7525\n",
            "Epoch 76/150\n",
            "155/155 [==============================] - 0s 2ms/step - loss: 0.5090 - accuracy: 0.7560 - val_loss: 0.5111 - val_accuracy: 0.7525\n",
            "Epoch 77/150\n",
            "155/155 [==============================] - 0s 2ms/step - loss: 0.5099 - accuracy: 0.7566 - val_loss: 0.5238 - val_accuracy: 0.7563\n",
            "Epoch 78/150\n",
            "155/155 [==============================] - 0s 2ms/step - loss: 0.5081 - accuracy: 0.7556 - val_loss: 0.5073 - val_accuracy: 0.7525\n",
            "Epoch 79/150\n",
            "155/155 [==============================] - 0s 2ms/step - loss: 0.5088 - accuracy: 0.7560 - val_loss: 0.5080 - val_accuracy: 0.7525\n",
            "Epoch 80/150\n",
            "155/155 [==============================] - 0s 2ms/step - loss: 0.5088 - accuracy: 0.7560 - val_loss: 0.5088 - val_accuracy: 0.7525\n",
            "Epoch 81/150\n",
            "155/155 [==============================] - 0s 2ms/step - loss: 0.5092 - accuracy: 0.7544 - val_loss: 0.5076 - val_accuracy: 0.7525\n",
            "Epoch 82/150\n",
            "155/155 [==============================] - 0s 2ms/step - loss: 0.5097 - accuracy: 0.7560 - val_loss: 0.5076 - val_accuracy: 0.7525\n",
            "Epoch 83/150\n",
            "155/155 [==============================] - 0s 2ms/step - loss: 0.5087 - accuracy: 0.7560 - val_loss: 0.5081 - val_accuracy: 0.7525\n",
            "Epoch 84/150\n",
            "155/155 [==============================] - 0s 2ms/step - loss: 0.5103 - accuracy: 0.7560 - val_loss: 0.5096 - val_accuracy: 0.7525\n",
            "Epoch 85/150\n",
            "155/155 [==============================] - 0s 2ms/step - loss: 0.5076 - accuracy: 0.7560 - val_loss: 0.5100 - val_accuracy: 0.7525\n",
            "Epoch 86/150\n",
            "155/155 [==============================] - 0s 2ms/step - loss: 0.5115 - accuracy: 0.7566 - val_loss: 0.5113 - val_accuracy: 0.7525\n",
            "Epoch 87/150\n",
            "155/155 [==============================] - 0s 2ms/step - loss: 0.5083 - accuracy: 0.7560 - val_loss: 0.5083 - val_accuracy: 0.7525\n",
            "Epoch 88/150\n",
            "155/155 [==============================] - 0s 2ms/step - loss: 0.5073 - accuracy: 0.7560 - val_loss: 0.5146 - val_accuracy: 0.7525\n",
            "Epoch 89/150\n",
            "155/155 [==============================] - 0s 2ms/step - loss: 0.5093 - accuracy: 0.7560 - val_loss: 0.5087 - val_accuracy: 0.7525\n",
            "Epoch 90/150\n",
            "155/155 [==============================] - 0s 2ms/step - loss: 0.5085 - accuracy: 0.7560 - val_loss: 0.5078 - val_accuracy: 0.7525\n",
            "Epoch 91/150\n",
            "155/155 [==============================] - 0s 2ms/step - loss: 0.5081 - accuracy: 0.7560 - val_loss: 0.5113 - val_accuracy: 0.7525\n",
            "Epoch 92/150\n",
            "155/155 [==============================] - 0s 2ms/step - loss: 0.5087 - accuracy: 0.7560 - val_loss: 0.5075 - val_accuracy: 0.7525\n",
            "Epoch 93/150\n",
            "155/155 [==============================] - 0s 2ms/step - loss: 0.5082 - accuracy: 0.7560 - val_loss: 0.5086 - val_accuracy: 0.7525\n",
            "Epoch 94/150\n",
            "155/155 [==============================] - 0s 2ms/step - loss: 0.5072 - accuracy: 0.7560 - val_loss: 0.5071 - val_accuracy: 0.7525\n",
            "Epoch 95/150\n",
            "155/155 [==============================] - 0s 2ms/step - loss: 0.5101 - accuracy: 0.7560 - val_loss: 0.5104 - val_accuracy: 0.7525\n",
            "Epoch 96/150\n",
            "155/155 [==============================] - 0s 2ms/step - loss: 0.5090 - accuracy: 0.7546 - val_loss: 0.5096 - val_accuracy: 0.7525\n",
            "Epoch 97/150\n",
            "155/155 [==============================] - 0s 2ms/step - loss: 0.5104 - accuracy: 0.7560 - val_loss: 0.5075 - val_accuracy: 0.7525\n",
            "Epoch 98/150\n",
            "155/155 [==============================] - 0s 2ms/step - loss: 0.5081 - accuracy: 0.7554 - val_loss: 0.5084 - val_accuracy: 0.7525\n",
            "Epoch 99/150\n",
            "155/155 [==============================] - 0s 2ms/step - loss: 0.5092 - accuracy: 0.7558 - val_loss: 0.5074 - val_accuracy: 0.7525\n",
            "Epoch 100/150\n",
            "155/155 [==============================] - 0s 2ms/step - loss: 0.5085 - accuracy: 0.7560 - val_loss: 0.5070 - val_accuracy: 0.7525\n",
            "Epoch 101/150\n",
            "155/155 [==============================] - 0s 2ms/step - loss: 0.5097 - accuracy: 0.7562 - val_loss: 0.5070 - val_accuracy: 0.7525\n",
            "Epoch 102/150\n",
            "155/155 [==============================] - 0s 2ms/step - loss: 0.5092 - accuracy: 0.7560 - val_loss: 0.5070 - val_accuracy: 0.7525\n",
            "Epoch 103/150\n",
            "155/155 [==============================] - 0s 2ms/step - loss: 0.5087 - accuracy: 0.7560 - val_loss: 0.5073 - val_accuracy: 0.7525\n",
            "Epoch 104/150\n",
            "155/155 [==============================] - 0s 2ms/step - loss: 0.5090 - accuracy: 0.7560 - val_loss: 0.5102 - val_accuracy: 0.7525\n",
            "Epoch 105/150\n",
            "155/155 [==============================] - 0s 2ms/step - loss: 0.5082 - accuracy: 0.7560 - val_loss: 0.5083 - val_accuracy: 0.7525\n",
            "Epoch 106/150\n",
            "155/155 [==============================] - 0s 2ms/step - loss: 0.5079 - accuracy: 0.7560 - val_loss: 0.5100 - val_accuracy: 0.7525\n",
            "Epoch 107/150\n",
            "155/155 [==============================] - 0s 2ms/step - loss: 0.5088 - accuracy: 0.7544 - val_loss: 0.5116 - val_accuracy: 0.7525\n",
            "Epoch 108/150\n",
            "155/155 [==============================] - 0s 2ms/step - loss: 0.5089 - accuracy: 0.7560 - val_loss: 0.5070 - val_accuracy: 0.7525\n",
            "Epoch 109/150\n",
            "155/155 [==============================] - 0s 2ms/step - loss: 0.5092 - accuracy: 0.7560 - val_loss: 0.5090 - val_accuracy: 0.7525\n",
            "Epoch 110/150\n",
            "155/155 [==============================] - 0s 2ms/step - loss: 0.5076 - accuracy: 0.7568 - val_loss: 0.5070 - val_accuracy: 0.7525\n",
            "Epoch 111/150\n",
            "155/155 [==============================] - 0s 2ms/step - loss: 0.5074 - accuracy: 0.7560 - val_loss: 0.5088 - val_accuracy: 0.7525\n",
            "Epoch 112/150\n",
            "155/155 [==============================] - 0s 2ms/step - loss: 0.5096 - accuracy: 0.7560 - val_loss: 0.5070 - val_accuracy: 0.7525\n",
            "Epoch 113/150\n",
            "155/155 [==============================] - 0s 2ms/step - loss: 0.5088 - accuracy: 0.7560 - val_loss: 0.5070 - val_accuracy: 0.7525\n",
            "Epoch 114/150\n",
            "155/155 [==============================] - 0s 1ms/step - loss: 0.5077 - accuracy: 0.7560 - val_loss: 0.5121 - val_accuracy: 0.7525\n",
            "Epoch 115/150\n",
            "155/155 [==============================] - 0s 2ms/step - loss: 0.5088 - accuracy: 0.7560 - val_loss: 0.5070 - val_accuracy: 0.7525\n",
            "Epoch 116/150\n",
            "155/155 [==============================] - 0s 2ms/step - loss: 0.5083 - accuracy: 0.7560 - val_loss: 0.5070 - val_accuracy: 0.7525\n",
            "Epoch 117/150\n",
            "155/155 [==============================] - 0s 2ms/step - loss: 0.5101 - accuracy: 0.7560 - val_loss: 0.5110 - val_accuracy: 0.7525\n",
            "Epoch 118/150\n",
            "155/155 [==============================] - 0s 2ms/step - loss: 0.5082 - accuracy: 0.7560 - val_loss: 0.5117 - val_accuracy: 0.7525\n",
            "Epoch 119/150\n",
            "155/155 [==============================] - 0s 2ms/step - loss: 0.5090 - accuracy: 0.7560 - val_loss: 0.5072 - val_accuracy: 0.7525\n",
            "Epoch 120/150\n",
            "155/155 [==============================] - 0s 2ms/step - loss: 0.5081 - accuracy: 0.7560 - val_loss: 0.5108 - val_accuracy: 0.7525\n",
            "Epoch 121/150\n",
            "155/155 [==============================] - 0s 2ms/step - loss: 0.5067 - accuracy: 0.7560 - val_loss: 0.5098 - val_accuracy: 0.7525\n",
            "Epoch 122/150\n",
            "155/155 [==============================] - 0s 2ms/step - loss: 0.5083 - accuracy: 0.7544 - val_loss: 0.5070 - val_accuracy: 0.7525\n",
            "Epoch 123/150\n",
            "155/155 [==============================] - 0s 2ms/step - loss: 0.5073 - accuracy: 0.7560 - val_loss: 0.5093 - val_accuracy: 0.7525\n",
            "Epoch 124/150\n",
            "155/155 [==============================] - 0s 2ms/step - loss: 0.5080 - accuracy: 0.7562 - val_loss: 0.5072 - val_accuracy: 0.7525\n",
            "Epoch 125/150\n",
            "155/155 [==============================] - 0s 2ms/step - loss: 0.5082 - accuracy: 0.7558 - val_loss: 0.5069 - val_accuracy: 0.7525\n",
            "Epoch 126/150\n",
            "155/155 [==============================] - 0s 2ms/step - loss: 0.5082 - accuracy: 0.7560 - val_loss: 0.5073 - val_accuracy: 0.7525\n",
            "Epoch 127/150\n",
            "155/155 [==============================] - 0s 2ms/step - loss: 0.5077 - accuracy: 0.7560 - val_loss: 0.5089 - val_accuracy: 0.7525\n",
            "Epoch 128/150\n",
            "155/155 [==============================] - 0s 2ms/step - loss: 0.5082 - accuracy: 0.7568 - val_loss: 0.5082 - val_accuracy: 0.7525\n",
            "Epoch 129/150\n",
            "155/155 [==============================] - 0s 2ms/step - loss: 0.5086 - accuracy: 0.7560 - val_loss: 0.5068 - val_accuracy: 0.7525\n",
            "Epoch 130/150\n",
            "155/155 [==============================] - 0s 2ms/step - loss: 0.5071 - accuracy: 0.7560 - val_loss: 0.5086 - val_accuracy: 0.7525\n",
            "Epoch 131/150\n",
            "155/155 [==============================] - 0s 2ms/step - loss: 0.5080 - accuracy: 0.7560 - val_loss: 0.5077 - val_accuracy: 0.7525\n",
            "Epoch 132/150\n",
            "155/155 [==============================] - 0s 2ms/step - loss: 0.5082 - accuracy: 0.7544 - val_loss: 0.5073 - val_accuracy: 0.7525\n",
            "Epoch 133/150\n",
            "155/155 [==============================] - 0s 2ms/step - loss: 0.5081 - accuracy: 0.7560 - val_loss: 0.5094 - val_accuracy: 0.7525\n",
            "Epoch 134/150\n",
            "155/155 [==============================] - 0s 2ms/step - loss: 0.5073 - accuracy: 0.7554 - val_loss: 0.5062 - val_accuracy: 0.7525\n",
            "Epoch 135/150\n",
            "155/155 [==============================] - 0s 2ms/step - loss: 0.5071 - accuracy: 0.7560 - val_loss: 0.5062 - val_accuracy: 0.7525\n",
            "Epoch 136/150\n",
            "155/155 [==============================] - 0s 2ms/step - loss: 0.5076 - accuracy: 0.7560 - val_loss: 0.5063 - val_accuracy: 0.7525\n",
            "Epoch 137/150\n",
            "155/155 [==============================] - 0s 2ms/step - loss: 0.5081 - accuracy: 0.7562 - val_loss: 0.5063 - val_accuracy: 0.7525\n",
            "Epoch 138/150\n",
            "155/155 [==============================] - 0s 2ms/step - loss: 0.5098 - accuracy: 0.7564 - val_loss: 0.5076 - val_accuracy: 0.7525\n",
            "Epoch 139/150\n",
            "155/155 [==============================] - 0s 2ms/step - loss: 0.5085 - accuracy: 0.7560 - val_loss: 0.5140 - val_accuracy: 0.7525\n",
            "Epoch 140/150\n",
            "155/155 [==============================] - 0s 1ms/step - loss: 0.5076 - accuracy: 0.7560 - val_loss: 0.5064 - val_accuracy: 0.7525\n",
            "Epoch 141/150\n",
            "155/155 [==============================] - 0s 2ms/step - loss: 0.5073 - accuracy: 0.7556 - val_loss: 0.5118 - val_accuracy: 0.7255\n",
            "Epoch 142/150\n",
            "155/155 [==============================] - 0s 2ms/step - loss: 0.5067 - accuracy: 0.7554 - val_loss: 0.5070 - val_accuracy: 0.7525\n",
            "Epoch 143/150\n",
            "155/155 [==============================] - 0s 2ms/step - loss: 0.5086 - accuracy: 0.7560 - val_loss: 0.5140 - val_accuracy: 0.7525\n",
            "Epoch 144/150\n",
            "155/155 [==============================] - 0s 2ms/step - loss: 0.5129 - accuracy: 0.7560 - val_loss: 0.5065 - val_accuracy: 0.7525\n",
            "Epoch 145/150\n",
            "155/155 [==============================] - 0s 2ms/step - loss: 0.5085 - accuracy: 0.7560 - val_loss: 0.5073 - val_accuracy: 0.7525\n",
            "Epoch 146/150\n",
            "155/155 [==============================] - 0s 1ms/step - loss: 0.5082 - accuracy: 0.7560 - val_loss: 0.5067 - val_accuracy: 0.7525\n",
            "Epoch 147/150\n",
            "155/155 [==============================] - 0s 2ms/step - loss: 0.5077 - accuracy: 0.7560 - val_loss: 0.5064 - val_accuracy: 0.7525\n",
            "Epoch 148/150\n",
            "155/155 [==============================] - 0s 2ms/step - loss: 0.5081 - accuracy: 0.7560 - val_loss: 0.5075 - val_accuracy: 0.7525\n",
            "Epoch 149/150\n",
            "155/155 [==============================] - 0s 2ms/step - loss: 0.5088 - accuracy: 0.7560 - val_loss: 0.5068 - val_accuracy: 0.7525\n",
            "Epoch 150/150\n",
            "155/155 [==============================] - 0s 2ms/step - loss: 0.5086 - accuracy: 0.7560 - val_loss: 0.5067 - val_accuracy: 0.7525\n"
          ]
        }
      ]
    },
    {
      "cell_type": "markdown",
      "metadata": {
        "id": "NKqp9otCHFJo"
      },
      "source": [
        "**v.** Predict the values on the test set and build a confusion matrix"
      ]
    },
    {
      "cell_type": "code",
      "metadata": {
        "id": "pggVt9XJHFkP"
      },
      "source": [
        "y_pred = model.predict(x_test, verbose=0)"
      ],
      "execution_count": 189,
      "outputs": []
    },
    {
      "cell_type": "code",
      "metadata": {
        "colab": {
          "base_uri": "https://localhost:8080/"
        },
        "id": "TVVFX0Y1H08x",
        "outputId": "1f0eb029-fe06-479f-9df8-84a29cd3f2a8"
      },
      "source": [
        "y_test.shape"
      ],
      "execution_count": 192,
      "outputs": [
        {
          "output_type": "execute_result",
          "data": {
            "text/plain": [
              "(2113,)"
            ]
          },
          "metadata": {},
          "execution_count": 192
        }
      ]
    },
    {
      "cell_type": "code",
      "metadata": {
        "colab": {
          "base_uri": "https://localhost:8080/"
        },
        "id": "cpb2V-OvHwIo",
        "outputId": "d68c15bd-7dfb-451b-e2a9-8f20bc2e1b59"
      },
      "source": [
        "y_pred.shape"
      ],
      "execution_count": 193,
      "outputs": [
        {
          "output_type": "execute_result",
          "data": {
            "text/plain": [
              "(2113, 1)"
            ]
          },
          "metadata": {},
          "execution_count": 193
        }
      ]
    },
    {
      "cell_type": "code",
      "metadata": {
        "id": "8wpxn_cJH8W1"
      },
      "source": [
        "from sklearn.metrics import confusion_matrix\n",
        "confusion_matrix(y_test,y_pred) "
      ],
      "execution_count": null,
      "outputs": []
    },
    {
      "cell_type": "markdown",
      "metadata": {
        "id": "_LMYRNxzuxg2"
      },
      "source": [
        "**vi.** Plot the ‘Accuracy vs Epochs’ graph\n"
      ]
    },
    {
      "cell_type": "code",
      "metadata": {
        "id": "INgjOkH3HztU"
      },
      "source": [
        "plt.figure(figsize=(12, 7))\n",
        "plt.plot(model_history.history.get('acc'), label=\"Acc\")\n",
        "plt.plot(model_history.epoch, label=\"Val Acc\")\n",
        "plt.legend()\n",
        "plt.show()"
      ],
      "execution_count": null,
      "outputs": []
    },
    {
      "cell_type": "markdown",
      "metadata": {
        "id": "9Rz55b_9u0KF"
      },
      "source": [
        "**b. Build the 2nd model using same target and feature variables:**\n",
        "\n"
      ]
    },
    {
      "cell_type": "code",
      "metadata": {
        "id": "dEVhhRzEu3_Y"
      },
      "source": [
        "model1 = Sequential()"
      ],
      "execution_count": 198,
      "outputs": []
    },
    {
      "cell_type": "markdown",
      "metadata": {
        "id": "RD7PruvavCPN"
      },
      "source": [
        "**i.** Add a drop-out layer after the input layer with drop-out value of 0.3 "
      ]
    },
    {
      "cell_type": "code",
      "metadata": {
        "id": "eOwfqSAUvDQa"
      },
      "source": [
        "model1.add(Dense(12, input_dim=1, activation='relu'))\n",
        "model1.add(Dropout(0.3))"
      ],
      "execution_count": 201,
      "outputs": []
    },
    {
      "cell_type": "markdown",
      "metadata": {
        "id": "6tNmScJ-vDfi"
      },
      "source": [
        "**ii.** Add a drop-out layer after the hidden layer with drop-out value of 0.2\n"
      ]
    },
    {
      "cell_type": "code",
      "metadata": {
        "id": "Tt2KbB2GvGQi"
      },
      "source": [
        "model1.add(Dense(8, activation='relu'))\n",
        "model1.add(Dropout(0.2))\n",
        "model1.add(Dense(1, activation='sigmoid')) "
      ],
      "execution_count": 202,
      "outputs": []
    },
    {
      "cell_type": "markdown",
      "metadata": {
        "id": "eLDgVn_8vGf2"
      },
      "source": [
        "**iii.** Predict the values on the test set and build a confusion matrix\n"
      ]
    },
    {
      "cell_type": "code",
      "metadata": {
        "id": "cEvgmSuWvIS0"
      },
      "source": [
        "model1.compile(loss='binary_crossentropy', optimizer='adam', metrics=['accuracy']) "
      ],
      "execution_count": 205,
      "outputs": []
    },
    {
      "cell_type": "code",
      "metadata": {
        "id": "VYw752rfJ_ah"
      },
      "source": [
        "model_history1 = model1.fit(x_train, y_train, epochs=150,validation_data=(x_test,y_test))"
      ],
      "execution_count": null,
      "outputs": []
    },
    {
      "cell_type": "code",
      "metadata": {
        "id": "JIaqxcGIKA6G"
      },
      "source": [
        "y_pred1 = model1.predict(x_test)"
      ],
      "execution_count": 208,
      "outputs": []
    },
    {
      "cell_type": "code",
      "metadata": {
        "id": "Dj0va80XKC3L"
      },
      "source": [
        "from sklearn.metrics import confusion_matrix\n",
        "confusion_matrix(y_test,y_pred)"
      ],
      "execution_count": null,
      "outputs": []
    },
    {
      "cell_type": "markdown",
      "metadata": {
        "id": "RnElNmkrvIqo"
      },
      "source": [
        "**iv.** Plot the ‘Accuracy vs Epochs’ graph"
      ]
    },
    {
      "cell_type": "code",
      "metadata": {
        "id": "ZuUjIHCTvKaS"
      },
      "source": [
        "plt.figure(figsize=(12, 7))\n",
        "plt.plot(model_history1.history.get('acc'), label=\"Acc\")\n",
        "plt.plot(model_history1.epoch, label=\"Val Acc\")\n",
        "plt.legend()\n",
        "plt.show()"
      ],
      "execution_count": null,
      "outputs": []
    },
    {
      "cell_type": "markdown",
      "metadata": {
        "id": "pw5hIAG7vKrl"
      },
      "source": [
        "**c. Build the 3rd model using ‘Tenure’, ’Monthly Charges’ & ‘Total Charges’ as the features and ‘Churn’ as the dependent/target column:**"
      ]
    },
    {
      "cell_type": "code",
      "metadata": {
        "id": "xVQSJIt9vRYa"
      },
      "source": [
        "x = customer[['tenure','MonthlyCharges','TotalCharges']]\n",
        "y = customer[['Churn']] \n",
        "x_train,x_test,y_train,y_test = train_test_split(x,y,test_size=0.30,random_state=42)"
      ],
      "execution_count": 228,
      "outputs": []
    },
    {
      "cell_type": "markdown",
      "metadata": {
        "id": "a7v_0HljvRwj"
      },
      "source": [
        "**i.** The visible/input layer should have 12 nodes with ‘Relu’ as activation function."
      ]
    },
    {
      "cell_type": "code",
      "metadata": {
        "id": "uky1IiAGvUMo"
      },
      "source": [
        "model2 = Sequential()\n",
        "model2.add(Dense(12, input_dim=3, activation='relu'))"
      ],
      "execution_count": null,
      "outputs": []
    },
    {
      "cell_type": "markdown",
      "metadata": {
        "id": "PkRUs3LfvUjC"
      },
      "source": [
        "**ii.** This model would have 1 hidden layer with 8 nodes and ‘Relu’ as activation function"
      ]
    },
    {
      "cell_type": "code",
      "metadata": {
        "id": "38K1wDguvX_-"
      },
      "source": [
        "model2.add(Dense(8, activation='relu'))\n",
        "model2.add(Dense(1, activation='sigmoid'))"
      ],
      "execution_count": null,
      "outputs": []
    },
    {
      "cell_type": "markdown",
      "metadata": {
        "id": "JQr4_RKSvYV-"
      },
      "source": [
        "**iii.** Use ‘Adam’ as the optimization algorithm"
      ]
    },
    {
      "cell_type": "code",
      "metadata": {
        "id": "8lHiiwj5vZjQ"
      },
      "source": [
        "model2.compile(loss='binary_crossentropy', optimizer='adam', metrics=['accuracy'])"
      ],
      "execution_count": null,
      "outputs": []
    },
    {
      "cell_type": "markdown",
      "metadata": {
        "id": "9rZRCQ-DvZ5o"
      },
      "source": [
        "**iv.** Fit the model on the train set, with number of epochs to be 150"
      ]
    },
    {
      "cell_type": "code",
      "metadata": {
        "id": "XgjlSbZbvclF"
      },
      "source": [
        "model_history2 = model2.fit(x_train, y_train, epochs=150,validation_data=(x_test,y_test))"
      ],
      "execution_count": null,
      "outputs": []
    },
    {
      "cell_type": "markdown",
      "metadata": {
        "id": "L1aU4DFcvdCB"
      },
      "source": [
        "**v.** Predict the values on the test set and build a confusion matrix "
      ]
    },
    {
      "cell_type": "code",
      "metadata": {
        "id": "dtW3-vyKvfSc"
      },
      "source": [
        "y_pred = model2.predicts(x_test)\n",
        "from sklearn.metrics import confusion_matrix\n",
        "confusion_matrix(y_test,y_pred) "
      ],
      "execution_count": null,
      "outputs": []
    },
    {
      "cell_type": "markdown",
      "metadata": {
        "id": "5dmDBVtKvfwS"
      },
      "source": [
        "**vi.** Plot the ‘Accuracy vs Epochs’ graph"
      ]
    },
    {
      "cell_type": "code",
      "metadata": {
        "id": "bEi18LTVvh3Q"
      },
      "source": [
        "plt.figure(figsize=(12, 7))\n",
        "plt.plot(model_history2.history.get('acc'), label=\"Acc\")\n",
        "plt.plot(model_history2.epoch, label=\"Val Acc\")\n",
        "plt.legend()\n",
        "plt.show()"
      ],
      "execution_count": null,
      "outputs": []
    }
  ]
}